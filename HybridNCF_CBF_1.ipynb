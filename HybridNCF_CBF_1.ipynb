{
  "nbformat": 4,
  "nbformat_minor": 0,
  "metadata": {
    "colab": {
      "provenance": [],
      "authorship_tag": "ABX9TyPQ8FMtWW7fjVCD6V0+y6P0",
      "include_colab_link": true
    },
    "kernelspec": {
      "name": "python3",
      "display_name": "Python 3"
    },
    "language_info": {
      "name": "python"
    }
  },
  "cells": [
    {
      "cell_type": "markdown",
      "metadata": {
        "id": "view-in-github",
        "colab_type": "text"
      },
      "source": [
        "<a href=\"https://colab.research.google.com/github/imammarzuki/Eksperimen/blob/main/HybridNCF_CBF_1.ipynb\" target=\"_parent\"><img src=\"https://colab.research.google.com/assets/colab-badge.svg\" alt=\"Open In Colab\"/></a>"
      ]
    },
    {
      "cell_type": "code",
      "execution_count": 1,
      "metadata": {
        "id": "vW1v0iFMJFEA"
      },
      "outputs": [],
      "source": [
        "import numpy as np\n",
        "import pandas as pd\n",
        "from sklearn.metrics import mean_absolute_error, mean_squared_error, confusion_matrix\n",
        "from sklearn.model_selection import train_test_split\n",
        "from sklearn.feature_extraction.text import TfidfVectorizer\n",
        "from tensorflow.keras.models import Model\n",
        "from tensorflow.keras.layers import Input, Embedding, Flatten, Dense, Concatenate, Dropout\n",
        "from tensorflow.keras.optimizers import Adam\n"
      ]
    },
    {
      "cell_type": "code",
      "source": [
        "data = {\n",
        "    'user_id': [1, 1, 2, 2, 3, 3, 4, 4],\n",
        "    'item_id': [101, 102, 101, 103, 102, 104, 101, 104],\n",
        "    'description': [\n",
        "        'nature beach sunset',\n",
        "        'historic culture museum',\n",
        "        'nature mountains hiking',\n",
        "        'urban shopping nightlife',\n",
        "        'historic culture museum',\n",
        "        'nature beach sunset',\n",
        "        'urban shopping nightlife',\n",
        "        'nature mountains hiking'\n",
        "    ],\n",
        "    'rating1': [3, 2, 4, 3, 1, 5, 5, 4],\n",
        "    'rating2': [2, 4, 3, 5, 3, 4, 4, 2]\n",
        "}\n",
        "\n",
        "df = pd.DataFrame(data)\n",
        "# Menggabungkan rating dengan rata-rata\n",
        "df['rating'] = df[['rating1', 'rating2']].mean(axis=1)\n",
        "\n",
        "# TF-IDF Vectorizer\n",
        "tfidf = TfidfVectorizer()\n",
        "tfidf_matrix = tfidf.fit_transform(df['description']).toarray()\n",
        "\n",
        "# Encoding user_id and item_id\n",
        "user_ids = df['user_id'].unique().tolist()\n",
        "user_id_mapping = {x: i for i, x in enumerate(user_ids)}\n",
        "item_ids = df['item_id'].unique().tolist()\n",
        "item_id_mapping = {x: i for i, x in enumerate(item_ids)}\n",
        "\n",
        "df['user_id'] = df['user_id'].map(user_id_mapping)\n",
        "df['item_id'] = df['item_id'].map(item_id_mapping)\n",
        "\n",
        "# Train test split\n",
        "X = df[['user_id', 'item_id']]\n",
        "y = df['rating']\n",
        "X_train, X_test, y_train, y_test = train_test_split(X, y, test_size=0.20, random_state=42)\n",
        "X_train_tfidf = tfidf_matrix[X_train.index]\n",
        "X_test_tfidf = tfidf_matrix[X_test.index]\n"
      ],
      "metadata": {
        "id": "3yhqP0F1JOS-"
      },
      "execution_count": 2,
      "outputs": []
    },
    {
      "cell_type": "code",
      "source": [
        "# Input layers\n",
        "user_input = Input(shape=(1,))\n",
        "item_input = Input(shape=(1,))\n",
        "tfidf_input = Input(shape=(tfidf_matrix.shape[1],))\n",
        "\n",
        "# Embedding layers\n",
        "user_embedding = Embedding(input_dim=len(user_id_mapping), output_dim=8)(user_input)\n",
        "item_embedding = Embedding(input_dim=len(item_id_mapping), output_dim=8)(item_input)\n",
        "\n",
        "# Flatten the embeddings\n",
        "user_vec = Flatten()(user_embedding)\n",
        "item_vec = Flatten()(item_embedding)\n",
        "\n",
        "# Concatenate features\n",
        "concat = Concatenate()([user_vec, item_vec, tfidf_input])\n",
        "\n",
        "# Neural network for deep features\n",
        "dense = Dense(128, activation='relu')(concat)\n",
        "dropout = Dropout(0.5)(dense)\n",
        "output = Dense(1)(dropout)\n",
        "\n",
        "model = Model(inputs=[user_input, item_input, tfidf_input], outputs=output)\n",
        "model.compile(optimizer=Adam(0.01), loss='mean_squared_error')\n",
        "\n",
        "# Model summary\n",
        "model.summary()\n"
      ],
      "metadata": {
        "colab": {
          "base_uri": "https://localhost:8080/"
        },
        "id": "-fFQSgtEJUjU",
        "outputId": "b48ead8f-9e60-4b29-c372-c9ce85be328b"
      },
      "execution_count": 3,
      "outputs": [
        {
          "output_type": "stream",
          "name": "stdout",
          "text": [
            "Model: \"model\"\n",
            "__________________________________________________________________________________________________\n",
            " Layer (type)                Output Shape                 Param #   Connected to                  \n",
            "==================================================================================================\n",
            " input_1 (InputLayer)        [(None, 1)]                  0         []                            \n",
            "                                                                                                  \n",
            " input_2 (InputLayer)        [(None, 1)]                  0         []                            \n",
            "                                                                                                  \n",
            " embedding (Embedding)       (None, 1, 8)                 32        ['input_1[0][0]']             \n",
            "                                                                                                  \n",
            " embedding_1 (Embedding)     (None, 1, 8)                 32        ['input_2[0][0]']             \n",
            "                                                                                                  \n",
            " flatten (Flatten)           (None, 8)                    0         ['embedding[0][0]']           \n",
            "                                                                                                  \n",
            " flatten_1 (Flatten)         (None, 8)                    0         ['embedding_1[0][0]']         \n",
            "                                                                                                  \n",
            " input_3 (InputLayer)        [(None, 11)]                 0         []                            \n",
            "                                                                                                  \n",
            " concatenate (Concatenate)   (None, 27)                   0         ['flatten[0][0]',             \n",
            "                                                                     'flatten_1[0][0]',           \n",
            "                                                                     'input_3[0][0]']             \n",
            "                                                                                                  \n",
            " dense (Dense)               (None, 128)                  3584      ['concatenate[0][0]']         \n",
            "                                                                                                  \n",
            " dropout (Dropout)           (None, 128)                  0         ['dense[0][0]']               \n",
            "                                                                                                  \n",
            " dense_1 (Dense)             (None, 1)                    129       ['dropout[0][0]']             \n",
            "                                                                                                  \n",
            "==================================================================================================\n",
            "Total params: 3777 (14.75 KB)\n",
            "Trainable params: 3777 (14.75 KB)\n",
            "Non-trainable params: 0 (0.00 Byte)\n",
            "__________________________________________________________________________________________________\n"
          ]
        }
      ]
    },
    {
      "cell_type": "code",
      "source": [
        "model.fit([X_train.user_id, X_train.item_id, X_train_tfidf], y_train, epochs=20, batch_size=2, verbose=1)\n"
      ],
      "metadata": {
        "colab": {
          "base_uri": "https://localhost:8080/"
        },
        "id": "WRIDxr98JbMG",
        "outputId": "6556fd3e-80cd-4384-8f71-b394ad6c1db2"
      },
      "execution_count": 4,
      "outputs": [
        {
          "output_type": "stream",
          "name": "stdout",
          "text": [
            "Epoch 1/20\n",
            "3/3 [==============================] - 1s 7ms/step - loss: 10.6492\n",
            "Epoch 2/20\n",
            "3/3 [==============================] - 0s 5ms/step - loss: 8.6369\n",
            "Epoch 3/20\n",
            "3/3 [==============================] - 0s 5ms/step - loss: 5.2724\n",
            "Epoch 4/20\n",
            "3/3 [==============================] - 0s 5ms/step - loss: 2.5011\n",
            "Epoch 5/20\n",
            "3/3 [==============================] - 0s 5ms/step - loss: 1.1247\n",
            "Epoch 6/20\n",
            "3/3 [==============================] - 0s 5ms/step - loss: 0.4831\n",
            "Epoch 7/20\n",
            "3/3 [==============================] - 0s 5ms/step - loss: 1.2520\n",
            "Epoch 8/20\n",
            "3/3 [==============================] - 0s 5ms/step - loss: 0.6509\n",
            "Epoch 9/20\n",
            "3/3 [==============================] - 0s 5ms/step - loss: 0.8868\n",
            "Epoch 10/20\n",
            "3/3 [==============================] - 0s 5ms/step - loss: 0.1942\n",
            "Epoch 11/20\n",
            "3/3 [==============================] - 0s 5ms/step - loss: 0.7340\n",
            "Epoch 12/20\n",
            "3/3 [==============================] - 0s 5ms/step - loss: 0.3942\n",
            "Epoch 13/20\n",
            "3/3 [==============================] - 0s 4ms/step - loss: 0.5969\n",
            "Epoch 14/20\n",
            "3/3 [==============================] - 0s 5ms/step - loss: 0.3516\n",
            "Epoch 15/20\n",
            "3/3 [==============================] - 0s 6ms/step - loss: 0.2171\n",
            "Epoch 16/20\n",
            "3/3 [==============================] - 0s 5ms/step - loss: 0.3892\n",
            "Epoch 17/20\n",
            "3/3 [==============================] - 0s 5ms/step - loss: 0.6479\n",
            "Epoch 18/20\n",
            "3/3 [==============================] - 0s 5ms/step - loss: 0.2769\n",
            "Epoch 19/20\n",
            "3/3 [==============================] - 0s 5ms/step - loss: 0.3448\n",
            "Epoch 20/20\n",
            "3/3 [==============================] - 0s 5ms/step - loss: 1.0978\n"
          ]
        },
        {
          "output_type": "execute_result",
          "data": {
            "text/plain": [
              "<keras.src.callbacks.History at 0x7ef03ae8d720>"
            ]
          },
          "metadata": {},
          "execution_count": 4
        }
      ]
    },
    {
      "cell_type": "code",
      "source": [
        "# Predictions\n",
        "predictions = model.predict([X_test.user_id, X_test.item_id, X_test_tfidf]).flatten()\n",
        "\n",
        "# Metrics\n",
        "mae = mean_absolute_error(y_test, predictions)\n",
        "rmse = np.sqrt(mean_squared_error(y_test, predictions))\n",
        "predicted_classes = np.round(predictions)\n",
        "cm = confusion_matrix(y_test.astype('int'), predicted_classes.astype('int'), labels=[1, 2, 3, 4, 5])\n",
        "\n",
        "print(f\"MAE: {mae}\")\n",
        "print(f\"RMSE: {rmse}\")\n",
        "print(\"Confusion Matrix:\\n\", cm)"
      ],
      "metadata": {
        "colab": {
          "base_uri": "https://localhost:8080/"
        },
        "id": "ceoKfO_dJijx",
        "outputId": "ceda4658-d8d5-41bb-fd46-50ae730af425"
      },
      "execution_count": 5,
      "outputs": [
        {
          "output_type": "stream",
          "name": "stdout",
          "text": [
            "1/1 [==============================] - 0s 185ms/step\n",
            "MAE: 1.8516911268234253\n",
            "RMSE: 1.9680307761431184\n",
            "Confusion Matrix:\n",
            " [[0 0 0 0 0]\n",
            " [0 0 0 0 0]\n",
            " [0 1 0 0 0]\n",
            " [0 1 0 0 0]\n",
            " [0 0 0 0 0]]\n"
          ]
        }
      ]
    }
  ]
}