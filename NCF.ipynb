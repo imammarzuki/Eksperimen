{
  "nbformat": 4,
  "nbformat_minor": 0,
  "metadata": {
    "colab": {
      "provenance": [],
      "authorship_tag": "ABX9TyPknypA5fLX0+MIi5SPdyrz",
      "include_colab_link": true
    },
    "kernelspec": {
      "name": "python3",
      "display_name": "Python 3"
    },
    "language_info": {
      "name": "python"
    }
  },
  "cells": [
    {
      "cell_type": "markdown",
      "metadata": {
        "id": "view-in-github",
        "colab_type": "text"
      },
      "source": [
        "<a href=\"https://colab.research.google.com/github/imammarzuki/Eksperimen/blob/main/NCF.ipynb\" target=\"_parent\"><img src=\"https://colab.research.google.com/assets/colab-badge.svg\" alt=\"Open In Colab\"/></a>"
      ]
    },
    {
      "cell_type": "code",
      "source": [
        "import pandas as pd\n",
        "import numpy as np\n",
        "import tensorflow as tf\n",
        "from sklearn.preprocessing import LabelEncoder, MinMaxScaler\n",
        "from sklearn.metrics import mean_absolute_error, mean_squared_error, accuracy_score, precision_score, recall_score, f1_score\n",
        "from tensorflow.keras.models import Model\n",
        "from tensorflow.keras.layers import Input, Embedding, Flatten, Concatenate, Dense\n",
        "\n",
        "# Simulasi Data (Data asli harus dikumpulkan terlebih dahulu)\n",
        "data = {\n",
        "    'User_ID': [1, 2, 3, 4, 5],\n",
        "    'Usia': [25, 34, 28, 45, 33],\n",
        "    'Jenis Kelamin': ['Laki-laki', 'Perempuan', 'Laki-laki', 'Perempuan', 'Laki-laki'],\n",
        "    'Pendidikan': ['Sarjana', 'Diploma', 'SMA', 'Sarjana', 'Pascasarjana'],\n",
        "    'Pekerjaan': ['PNS', 'Pekerja Kantoran', 'Wirausahawan', 'PNS', 'Pekerja Kantoran'],\n",
        "    'Pendapatan': [7000000, 8000000, 5000000, 10000000, 9000000],\n",
        "    'Bali': [4, 5, 4, 3, 5],\n",
        "    'Yogyakarta': [5, 4, 3, 4, 5],\n",
        "    'Lombok': [4, 5, 4, 2, 4],\n",
        "    'Jakarta': [3, 4, 2, 3, 4],\n",
        "    'Raja Ampat': [5, 5, 5, 4, 5]\n",
        "}\n",
        "\n",
        "df = pd.DataFrame(data)\n",
        "\n",
        "# Preprocessing\n",
        "le = LabelEncoder()\n",
        "df['Jenis Kelamin'] = le.fit_transform(df['Jenis Kelamin'])\n",
        "df['Pendidikan'] = le.fit_transform(df['Pendidikan'])\n",
        "df['Pekerjaan'] = le.fit_transform(df['Pekerjaan'])\n",
        "\n",
        "scaler = MinMaxScaler()\n",
        "df[['Usia', 'Pendapatan']] = scaler.fit_transform(df[['Usia', 'Pendapatan']])\n",
        "\n",
        "# Preparing the data for NCF\n",
        "user_features = df[['User_ID', 'Usia', 'Jenis Kelamin', 'Pendidikan', 'Pekerjaan', 'Pendapatan']]\n",
        "ratings = df[['Bali', 'Yogyakarta', 'Lombok', 'Jakarta', 'Raja Ampat']]\n",
        "\n",
        "# Reshape data for training\n",
        "n_users = user_features.shape[0]\n",
        "n_items = ratings.shape[1]\n",
        "user_ids = np.array([[i]*n_items for i in range(n_users)]).flatten()\n",
        "item_ids = np.array([list(range(n_items))]*n_users).flatten()\n",
        "ratings_flat = ratings.values.flatten()\n",
        "\n",
        "# Model Architecture\n",
        "user_input = Input(shape=(1,))\n",
        "item_input = Input(shape=(1,))\n",
        "\n",
        "user_embedding = Embedding(input_dim=n_users, output_dim=50)(user_input)\n",
        "item_embedding = Embedding(input_dim=n_items, output_dim=50)(item_input)\n",
        "\n",
        "user_vecs = Flatten()(user_embedding)\n",
        "item_vecs = Flatten()(item_embedding)\n",
        "\n",
        "input_vecs = Concatenate()([user_vecs, item_vecs])\n",
        "\n",
        "dense = Dense(128, activation='relu')(input_vecs)\n",
        "output = Dense(1)(dense)\n",
        "\n",
        "model = Model(inputs=[user_input, item_input], outputs=output)\n",
        "model.compile(optimizer='adam', loss='mse')\n",
        "\n",
        "# Training the model\n",
        "model.fit([user_ids, item_ids], ratings_flat, epochs=10, verbose=1)\n",
        "\n",
        "# Predicting ratings\n",
        "predictions = model.predict([user_ids, item_ids]).flatten()\n",
        "predictions = predictions.reshape((n_users, n_items))\n",
        "\n",
        "# Evaluasi\n",
        "true_ratings = ratings.values\n",
        "mae = mean_absolute_error(true_ratings, predictions)\n",
        "rmse = mean_squared_error(true_ratings, predictions, squared=False)\n",
        "\n",
        "# Untuk metrik classification, kita perlu binarize ratings\n",
        "threshold = 3.5\n",
        "true_binary = (true_ratings > threshold).astype(int)\n",
        "pred_binary = (predictions > threshold).astype(int)\n",
        "\n",
        "accuracy = accuracy_score(true_binary.flatten(), pred_binary.flatten())\n",
        "precision = precision_score(true_binary.flatten(), pred_binary.flatten(), average='weighted')\n",
        "recall = recall_score(true_binary.flatten(), pred_binary.flatten(), average='weighted')\n",
        "f1 = f1_score(true_binary.flatten(), pred_binary.flatten(), average='weighted')\n",
        "\n",
        "# Output hasil evaluasi\n",
        "print(f'MAE: {mae}')\n",
        "print(f'RMSE: {rmse}')\n",
        "print(f'Accuracy: {accuracy}')\n",
        "print(f'Precision: {precision}')\n",
        "print(f'Recall: {recall}')\n",
        "print(f'F1-Score: {f1}')\n"
      ],
      "metadata": {
        "id": "mhM2TJ7MJKXK",
        "colab": {
          "base_uri": "https://localhost:8080/"
        },
        "outputId": "d7d40b5c-5246-4887-dd48-06be8caad53b"
      },
      "execution_count": null,
      "outputs": [
        {
          "output_type": "stream",
          "name": "stdout",
          "text": [
            "Epoch 1/10\n",
            "1/1 [==============================] - 6s 6s/step - loss: 17.3744\n",
            "Epoch 2/10\n",
            "1/1 [==============================] - 0s 27ms/step - loss: 17.2001\n",
            "Epoch 3/10\n",
            "1/1 [==============================] - 0s 28ms/step - loss: 17.0317\n",
            "Epoch 4/10\n",
            "1/1 [==============================] - 0s 39ms/step - loss: 16.8676\n",
            "Epoch 5/10\n",
            "1/1 [==============================] - 0s 41ms/step - loss: 16.7058\n",
            "Epoch 6/10\n",
            "1/1 [==============================] - 0s 40ms/step - loss: 16.5441\n",
            "Epoch 7/10\n",
            "1/1 [==============================] - 0s 29ms/step - loss: 16.3820\n",
            "Epoch 8/10\n",
            "1/1 [==============================] - 0s 34ms/step - loss: 16.2197\n",
            "Epoch 9/10\n",
            "1/1 [==============================] - 0s 41ms/step - loss: 16.0571\n",
            "Epoch 10/10\n",
            "1/1 [==============================] - 0s 55ms/step - loss: 15.8906\n",
            "1/1 [==============================] - 1s 551ms/step\n",
            "MAE: 3.8568649154901506\n",
            "RMSE: 3.9310884920787217\n",
            "Accuracy: 0.24\n",
            "Precision: 0.0576\n",
            "Recall: 0.24\n",
            "F1-Score: 0.0929032258064516\n"
          ]
        },
        {
          "output_type": "stream",
          "name": "stderr",
          "text": [
            "/usr/local/lib/python3.10/dist-packages/sklearn/metrics/_classification.py:1344: UndefinedMetricWarning: Precision is ill-defined and being set to 0.0 in labels with no predicted samples. Use `zero_division` parameter to control this behavior.\n",
            "  _warn_prf(average, modifier, msg_start, len(result))\n"
          ]
        }
      ]
    }
  ]
}