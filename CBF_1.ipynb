{
  "nbformat": 4,
  "nbformat_minor": 0,
  "metadata": {
    "colab": {
      "provenance": [],
      "authorship_tag": "ABX9TyOIs4oHXFKJo+VUTVfiMNb+",
      "include_colab_link": true
    },
    "kernelspec": {
      "name": "python3",
      "display_name": "Python 3"
    },
    "language_info": {
      "name": "python"
    }
  },
  "cells": [
    {
      "cell_type": "markdown",
      "metadata": {
        "id": "view-in-github",
        "colab_type": "text"
      },
      "source": [
        "<a href=\"https://colab.research.google.com/github/imammarzuki/Eksperimen/blob/main/CBF_1.ipynb\" target=\"_parent\"><img src=\"https://colab.research.google.com/assets/colab-badge.svg\" alt=\"Open In Colab\"/></a>"
      ]
    },
    {
      "cell_type": "code",
      "source": [
        "import numpy as np\n",
        "import pandas as pd\n",
        "from sklearn.feature_extraction.text import TfidfVectorizer\n",
        "from sklearn.metrics import mean_absolute_error, mean_squared_error, confusion_matrix\n",
        "from sklearn.model_selection import train_test_split"
      ],
      "metadata": {
        "id": "41m0_V4Zawhy"
      },
      "execution_count": 1,
      "outputs": []
    },
    {
      "cell_type": "code",
      "source": [
        "data = {\n",
        "    'user_id': [1, 2, 3, 4, 1, 2, 3, 4],\n",
        "    'place_id': [101, 102, 103, 104, 105, 106, 107, 108],\n",
        "    'place_name': ['Place A', 'Place B', 'Place C', 'Place D', 'Place E', 'Place F', 'Place G', 'Place H'],\n",
        "    'description': [\n",
        "        'beautiful beach and sun',\n",
        "        'historic museum and culture',\n",
        "        'exciting trails and hiking',\n",
        "        'relaxing parks and scenery',\n",
        "        'thrilling amusement parks',\n",
        "        'informative and educational tours',\n",
        "        'stunning art and galleries',\n",
        "        'peaceful retreat and spa'\n",
        "    ],\n",
        "    'rating1': [4, 5, 5, 3, 4, 5, 3, 4],\n",
        "    'rating2': [3, 4, 4, 2, 5, 3, 4, 5]\n",
        "}\n",
        "df = pd.DataFrame(data)\n"
      ],
      "metadata": {
        "id": "eyZ2NoP3a2YV"
      },
      "execution_count": 2,
      "outputs": []
    },
    {
      "cell_type": "code",
      "source": [
        "df['average_rating'] = df[['rating1', 'rating2']].mean(axis=1)"
      ],
      "metadata": {
        "id": "CP4NsaJja9AR"
      },
      "execution_count": 3,
      "outputs": []
    },
    {
      "cell_type": "code",
      "source": [
        "# Vektorisasi teks\n",
        "tfidf = TfidfVectorizer(stop_words='english')\n",
        "tfidf_matrix = tfidf.fit_transform(df['description'])\n",
        "\n",
        "# Split data\n",
        "X_train, X_test, y_train, y_test = train_test_split(tfidf_matrix, df['average_rating'], test_size=0.25, random_state=42)"
      ],
      "metadata": {
        "id": "F_EfK-Y1bA22"
      },
      "execution_count": 4,
      "outputs": []
    },
    {
      "cell_type": "code",
      "source": [
        "from sklearn.linear_model import LinearRegression\n",
        "\n",
        "model = LinearRegression()\n",
        "model.fit(X_train, y_train)\n",
        "predictions = model.predict(X_test)"
      ],
      "metadata": {
        "id": "BdcZpd1JbHnm"
      },
      "execution_count": 5,
      "outputs": []
    },
    {
      "cell_type": "code",
      "source": [
        "# Menghitung MAE dan RMSE\n",
        "mae = mean_absolute_error(y_test, predictions)\n",
        "rmse = np.sqrt(mean_squared_error(y_test, predictions))\n",
        "\n",
        "# Confusion Matrix - hanya mungkin dengan nilai rating bulat\n",
        "y_test_rounded = y_test.round().astype(int)\n",
        "predictions_rounded = np.round(predictions).astype(int)\n",
        "cm = confusion_matrix(y_test_rounded, predictions_rounded, labels=np.unique(y_test_rounded))\n",
        "\n",
        "print(f\"MAE: {mae}\")\n",
        "print(f\"RMSE: {rmse}\")\n",
        "print(\"Confusion Matrix:\\n\", cm)"
      ],
      "metadata": {
        "colab": {
          "base_uri": "https://localhost:8080/"
        },
        "id": "yMQHOSbtbNqz",
        "outputId": "4d98f1ae-4d11-4c8f-d089-57ce9ce17989"
      },
      "execution_count": 6,
      "outputs": [
        {
          "output_type": "stream",
          "name": "stdout",
          "text": [
            "MAE: 0.3920527015052664\n",
            "RMSE: 0.4649788390427864\n",
            "Confusion Matrix:\n",
            " [[2]]\n"
          ]
        }
      ]
    }
  ]
}