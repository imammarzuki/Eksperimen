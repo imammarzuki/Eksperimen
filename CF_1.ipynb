{
  "nbformat": 4,
  "nbformat_minor": 0,
  "metadata": {
    "colab": {
      "provenance": [],
      "include_colab_link": true
    },
    "kernelspec": {
      "name": "python3",
      "display_name": "Python 3"
    },
    "language_info": {
      "name": "python"
    }
  },
  "cells": [
    {
      "cell_type": "markdown",
      "metadata": {
        "id": "view-in-github",
        "colab_type": "text"
      },
      "source": [
        "<a href=\"https://colab.research.google.com/github/imammarzuki/Eksperimen/blob/main/CF_1.ipynb\" target=\"_parent\"><img src=\"https://colab.research.google.com/assets/colab-badge.svg\" alt=\"Open In Colab\"/></a>"
      ]
    },
    {
      "cell_type": "code",
      "source": [
        "!pip install scikit-surprise"
      ],
      "metadata": {
        "colab": {
          "base_uri": "https://localhost:8080/"
        },
        "id": "5nBcXzuf2kQN",
        "outputId": "347bde05-a113-4541-8731-4070207f87b7"
      },
      "execution_count": 1,
      "outputs": [
        {
          "output_type": "stream",
          "name": "stdout",
          "text": [
            "Collecting scikit-surprise\n",
            "  Downloading scikit-surprise-1.1.3.tar.gz (771 kB)\n",
            "\u001b[2K     \u001b[90m━━━━━━━━━━━━━━━━━━━━━━━━━━━━━━━━━━━━━━━━\u001b[0m \u001b[32m772.0/772.0 kB\u001b[0m \u001b[31m5.9 MB/s\u001b[0m eta \u001b[36m0:00:00\u001b[0m\n",
            "\u001b[?25h  Preparing metadata (setup.py) ... \u001b[?25l\u001b[?25hdone\n",
            "Requirement already satisfied: joblib>=1.0.0 in /usr/local/lib/python3.10/dist-packages (from scikit-surprise) (1.4.2)\n",
            "Requirement already satisfied: numpy>=1.17.3 in /usr/local/lib/python3.10/dist-packages (from scikit-surprise) (1.25.2)\n",
            "Requirement already satisfied: scipy>=1.3.2 in /usr/local/lib/python3.10/dist-packages (from scikit-surprise) (1.11.4)\n",
            "Building wheels for collected packages: scikit-surprise\n",
            "  Building wheel for scikit-surprise (setup.py) ... \u001b[?25l\u001b[?25hdone\n",
            "  Created wheel for scikit-surprise: filename=scikit_surprise-1.1.3-cp310-cp310-linux_x86_64.whl size=3162985 sha256=ed779909caad71321134baa7ec85c9c36205a3328f525c7fe5de3f0c38e845f4\n",
            "  Stored in directory: /root/.cache/pip/wheels/a5/ca/a8/4e28def53797fdc4363ca4af740db15a9c2f1595ebc51fb445\n",
            "Successfully built scikit-surprise\n",
            "Installing collected packages: scikit-surprise\n",
            "Successfully installed scikit-surprise-1.1.3\n"
          ]
        }
      ]
    },
    {
      "cell_type": "code",
      "execution_count": 2,
      "metadata": {
        "id": "MmBdMyV61249"
      },
      "outputs": [],
      "source": [
        "from surprise import Dataset, Reader\n",
        "from surprise import SVD, accuracy\n",
        "from surprise.model_selection import train_test_split\n",
        "import numpy as np\n",
        "from sklearn.metrics import confusion_matrix, mean_absolute_error, mean_squared_error\n",
        "import pandas as pd"
      ]
    },
    {
      "cell_type": "code",
      "source": [
        "# Contoh data: user_id, item_id, rating1, rating2, ... (multi-criteria)\n",
        "data = {\n",
        "    'user_id': [1, 1, 2, 2, 3, 3, 4, 4],\n",
        "    'item_id': [101, 102, 101, 103, 102, 104, 101, 104],\n",
        "    'rating1': [3, 2, 4, 3, 1, 5, 5, 4],\n",
        "    'rating2': [2, 4, 3, 5, 3, 4, 4, 2]\n",
        "}\n",
        "\n",
        "df = pd.DataFrame(data)\n",
        "# Menggabungkan beberapa rating menjadi satu dengan rata-rata (sederhana)\n",
        "df['rating'] = df[['rating1', 'rating2']].mean(axis=1)\n",
        "\n",
        "# Load data ke Surprise\n",
        "reader = Reader(rating_scale=(1, 5))\n",
        "data = Dataset.load_from_df(df[['user_id', 'item_id', 'rating']], reader)"
      ],
      "metadata": {
        "id": "ngolwBAX2c27"
      },
      "execution_count": 3,
      "outputs": []
    },
    {
      "cell_type": "code",
      "source": [
        "# Memecah data menjadi train dan test set\n",
        "trainset, testset = train_test_split(data, test_size=0.25)\n",
        "\n",
        "# Menggunakan SVD sebagai algoritma Collaborative Filtering\n",
        "algo = SVD()\n",
        "\n",
        "# Melatih model\n",
        "algo.fit(trainset)\n",
        "\n",
        "# Membuat prediksi pada test set\n",
        "predictions = algo.test(testset)"
      ],
      "metadata": {
        "id": "S0tH4e6o3YZJ"
      },
      "execution_count": 4,
      "outputs": []
    },
    {
      "cell_type": "code",
      "source": [
        "# Menghitung RMSE dan MAE\n",
        "rmse = accuracy.rmse(predictions)\n",
        "mae = accuracy.mae(predictions)\n",
        "\n",
        "# Menghitung Confusion Matrix (mengasumsikan rating dibulatkan)\n",
        "actual = np.array([pred.r_ui for pred in predictions])\n",
        "predicted = np.array([round(pred.est) for pred in predictions])\n",
        "actual = np.where( actual >= 0.5, 1, 0)\n",
        "cm = confusion_matrix(actual, predicted, labels=[1, 2, 3, 4, 5])\n",
        "\n",
        "print(\"MAE:\", mae)\n",
        "print(\"RMSE:\", rmse)\n",
        "print(\"Confusion Matrix:\\n\", cm)"
      ],
      "metadata": {
        "id": "6vJmp01E3cTB",
        "colab": {
          "base_uri": "https://localhost:8080/"
        },
        "outputId": "7479888a-d707-4012-f970-8540d1b33940"
      },
      "execution_count": 5,
      "outputs": [
        {
          "output_type": "stream",
          "name": "stdout",
          "text": [
            "RMSE: 1.5738\n",
            "MAE:  1.5676\n",
            "MAE: 1.5675554899633837\n",
            "RMSE: 1.5738139541920204\n",
            "Confusion Matrix:\n",
            " [[0 0 2 0 0]\n",
            " [0 0 0 0 0]\n",
            " [0 0 0 0 0]\n",
            " [0 0 0 0 0]\n",
            " [0 0 0 0 0]]\n"
          ]
        }
      ]
    }
  ]
}