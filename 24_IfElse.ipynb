{
  "nbformat": 4,
  "nbformat_minor": 0,
  "metadata": {
    "colab": {
      "provenance": [],
      "authorship_tag": "ABX9TyMswwjBQZry/eYAyjlLM5U5",
      "include_colab_link": true
    },
    "kernelspec": {
      "name": "python3",
      "display_name": "Python 3"
    },
    "language_info": {
      "name": "python"
    }
  },
  "cells": [
    {
      "cell_type": "markdown",
      "metadata": {
        "id": "view-in-github",
        "colab_type": "text"
      },
      "source": [
        "<a href=\"https://colab.research.google.com/github/imammarzuki/Eksperimen/blob/main/24_IfElse.ipynb\" target=\"_parent\"><img src=\"https://colab.research.google.com/assets/colab-badge.svg\" alt=\"Open In Colab\"/></a>"
      ]
    },
    {
      "cell_type": "code",
      "execution_count": 1,
      "metadata": {
        "id": "2YGXauzi8UDD"
      },
      "outputs": [],
      "source": [
        "# Tutorial Belajar Python Part 24: Percabangan Kondisi If Else Bahasa Python"
      ]
    },
    {
      "cell_type": "code",
      "source": [
        "a = 7\n",
        "\n",
        "if (a % 2) == 0:\n",
        "  print('Variabel a berisi angka genap')\n",
        "if (a % 2) != 0:\n",
        "  print('Variabel a berisi angka ganjil')"
      ],
      "metadata": {
        "colab": {
          "base_uri": "https://localhost:8080/"
        },
        "id": "uKBZLCfK9Xj1",
        "outputId": "11d2b30e-255f-4d95-f80b-b93a31f327b2"
      },
      "execution_count": 3,
      "outputs": [
        {
          "output_type": "stream",
          "name": "stdout",
          "text": [
            "Variabel a berisi angka ganjil\n"
          ]
        }
      ]
    },
    {
      "cell_type": "code",
      "source": [
        "a = 7\n",
        "\n",
        "if (a % 2) == 0:\n",
        "  print('Variabel a berisi angka genap')\n",
        "else:\n",
        "  print('Variabel a berisi angka ganjil')"
      ],
      "metadata": {
        "colab": {
          "base_uri": "https://localhost:8080/"
        },
        "id": "Ce-p-zMu9fXQ",
        "outputId": "3969cfe1-33e4-451f-af7b-232e70ee81b5"
      },
      "execution_count": 4,
      "outputs": [
        {
          "output_type": "stream",
          "name": "stdout",
          "text": [
            "Variabel a berisi angka ganjil\n"
          ]
        }
      ]
    },
    {
      "cell_type": "code",
      "source": [
        "nilai = 65\n",
        "\n",
        "if nilai >= 75:\n",
        "  print('Selamat, anda lulus')\n",
        "else:\n",
        "  print('Maaf, silahkan coba lagi tahun depan')"
      ],
      "metadata": {
        "colab": {
          "base_uri": "https://localhost:8080/"
        },
        "id": "LxZYP77p9lWX",
        "outputId": "996350fe-3e3a-4516-db6e-c10ef6fa14fd"
      },
      "execution_count": 5,
      "outputs": [
        {
          "output_type": "stream",
          "name": "stdout",
          "text": [
            "Maaf, silahkan coba lagi tahun depan\n"
          ]
        }
      ]
    }
  ]
}