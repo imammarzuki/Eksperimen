{
  "nbformat": 4,
  "nbformat_minor": 0,
  "metadata": {
    "colab": {
      "provenance": [],
      "authorship_tag": "ABX9TyNlp0JZNq4M4MaEskzJeAUo",
      "include_colab_link": true
    },
    "kernelspec": {
      "name": "python3",
      "display_name": "Python 3"
    },
    "language_info": {
      "name": "python"
    }
  },
  "cells": [
    {
      "cell_type": "markdown",
      "metadata": {
        "id": "view-in-github",
        "colab_type": "text"
      },
      "source": [
        "<a href=\"https://colab.research.google.com/github/imammarzuki/Eksperimen/blob/main/CBF.ipynb\" target=\"_parent\"><img src=\"https://colab.research.google.com/assets/colab-badge.svg\" alt=\"Open In Colab\"/></a>"
      ]
    },
    {
      "cell_type": "code",
      "source": [
        "import pandas as pd\n",
        "import numpy as np\n",
        "from sklearn.metrics import mean_absolute_error, mean_squared_error, accuracy_score, precision_score, recall_score, f1_score\n",
        "from sklearn.preprocessing import LabelEncoder, MinMaxScaler\n",
        "from sklearn.linear_model import LinearRegression\n",
        "\n",
        "# Simulasi Data (Data asli harus dikumpulkan terlebih dahulu)\n",
        "data = {\n",
        "    'Usia': [25, 34, 28, 45, 33],\n",
        "    'Jenis Kelamin': ['Laki-laki', 'Perempuan', 'Laki-laki', 'Perempuan', 'Laki-laki'],\n",
        "    'Pendidikan': ['Sarjana', 'Diploma', 'SMA', 'Sarjana', 'Pascasarjana'],\n",
        "    'Pekerjaan': ['PNS', 'Pekerja Kantoran', 'Wirausahawan', 'PNS', 'Pekerja Kantoran'],\n",
        "    'Pendapatan': [7000000, 8000000, 5000000, 10000000, 9000000],\n",
        "    'Bali': [4, 5, 4, 3, 5],\n",
        "    'Yogyakarta': [5, 4, 3, 4, 5],\n",
        "    'Lombok': [4, 5, 4, 2, 4],\n",
        "    'Jakarta': [3, 4, 2, 3, 4],\n",
        "    'Raja Ampat': [5, 5, 5, 4, 5]\n",
        "}\n",
        "\n",
        "df = pd.DataFrame(data)\n",
        "\n",
        "# Preprocessing\n",
        "le = LabelEncoder()\n",
        "df['Jenis Kelamin'] = le.fit_transform(df['Jenis Kelamin'])\n",
        "df['Pendidikan'] = le.fit_transform(df['Pendidikan'])\n",
        "df['Pekerjaan'] = le.fit_transform(df['Pekerjaan'])\n",
        "\n",
        "scaler = MinMaxScaler()\n",
        "df[['Usia', 'Pendapatan']] = scaler.fit_transform(df[['Usia', 'Pendapatan']])\n",
        "\n",
        "# Features and labels\n",
        "features = df[['Usia', 'Jenis Kelamin', 'Pendidikan', 'Pekerjaan', 'Pendapatan']]\n",
        "labels = df[['Bali', 'Yogyakarta', 'Lombok', 'Jakarta', 'Raja Ampat']]\n",
        "\n",
        "# Content-Based Filtering\n",
        "def predict_ratings(user_features, labels):\n",
        "    predictions = []\n",
        "    for i in range(labels.shape[1]):\n",
        "        model = LinearRegression()\n",
        "        model.fit(user_features, labels.iloc[:, i])\n",
        "        predictions.append(model.predict(user_features))\n",
        "    return np.array(predictions).T\n",
        "\n",
        "predictions = predict_ratings(features, labels)\n",
        "true_ratings = labels.values\n",
        "\n",
        "# Evaluasi\n",
        "mae = mean_absolute_error(true_ratings, predictions)\n",
        "rmse = mean_squared_error(true_ratings, predictions, squared=False)\n",
        "\n",
        "# Untuk metrik classification, kita perlu binarize ratings\n",
        "threshold = 3.5\n",
        "true_binary = (true_ratings > threshold).astype(int)\n",
        "pred_binary = (predictions > threshold).astype(int)\n",
        "\n",
        "accuracy = accuracy_score(true_binary.flatten(), pred_binary.flatten())\n",
        "precision = precision_score(true_binary.flatten(), pred_binary.flatten(), average='weighted')\n",
        "recall = recall_score(true_binary.flatten(), pred_binary.flatten(), average='weighted')\n",
        "f1 = f1_score(true_binary.flatten(), pred_binary.flatten(), average='weighted')\n",
        "\n",
        "# Output hasil evaluasi\n",
        "print(f'MAE: {mae}')\n",
        "print(f'RMSE: {rmse}')\n",
        "print(f'Accuracy: {accuracy}')\n",
        "print(f'Precision: {precision}')\n",
        "print(f'Recall: {recall}')\n",
        "print(f'F1-Score: {f1}')\n"
      ],
      "metadata": {
        "colab": {
          "base_uri": "https://localhost:8080/"
        },
        "id": "dWGDEh3LQwwi",
        "outputId": "91fc4299-12cf-4a1c-e24f-cd3c94fe7bfb"
      },
      "execution_count": 17,
      "outputs": [
        {
          "output_type": "stream",
          "name": "stdout",
          "text": [
            "MAE: 1.9539925233402758e-16\n",
            "RMSE: 3.3500223082034515e-16\n",
            "Accuracy: 1.0\n",
            "Precision: 1.0\n",
            "Recall: 1.0\n",
            "F1-Score: 1.0\n"
          ]
        }
      ]
    }
  ]
}