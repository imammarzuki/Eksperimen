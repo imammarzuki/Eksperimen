{
  "nbformat": 4,
  "nbformat_minor": 0,
  "metadata": {
    "colab": {
      "provenance": [],
      "authorship_tag": "ABX9TyNf3ybTK4TKrogLkCYTiZL3",
      "include_colab_link": true
    },
    "kernelspec": {
      "name": "python3",
      "display_name": "Python 3"
    },
    "language_info": {
      "name": "python"
    }
  },
  "cells": [
    {
      "cell_type": "markdown",
      "metadata": {
        "id": "view-in-github",
        "colab_type": "text"
      },
      "source": [
        "<a href=\"https://colab.research.google.com/github/imammarzuki/Eksperimen/blob/main/HybridCF_CBF_1.ipynb\" target=\"_parent\"><img src=\"https://colab.research.google.com/assets/colab-badge.svg\" alt=\"Open In Colab\"/></a>"
      ]
    },
    {
      "cell_type": "code",
      "source": [
        "import numpy as np\n",
        "import pandas as pd\n",
        "from sklearn.feature_extraction.text import TfidfVectorizer\n",
        "from sklearn.metrics import mean_absolute_error, mean_squared_error, confusion_matrix\n",
        "from sklearn.model_selection import train_test_split\n",
        "from tensorflow.keras.models import Model\n",
        "from tensorflow.keras.layers import Input, Embedding, Flatten, Dot, Dense, Concatenate, Dropout\n",
        "from tensorflow.keras.optimizers import Adam\n",
        "from tensorflow.keras.regularizers import l2"
      ],
      "metadata": {
        "id": "TO3Nt8fBH3mI"
      },
      "execution_count": 11,
      "outputs": []
    },
    {
      "cell_type": "code",
      "source": [
        "data = {\n",
        "    'user_id': [1, 1, 2, 2, 3, 3, 4, 4],\n",
        "    'item_id': [101, 102, 101, 103, 102, 104, 101, 104],\n",
        "    'description': [\n",
        "        'nature beach sunset',\n",
        "        'historic culture museum',\n",
        "        'nature mountains hiking',\n",
        "        'urban shopping nightlife',\n",
        "        'historic culture museum',\n",
        "        'nature beach sunset',\n",
        "        'urban shopping nightlife',\n",
        "        'nature mountains hiking'\n",
        "    ],\n",
        "    'rating1': [3, 2, 4, 3, 1, 5, 5, 4],\n",
        "    'rating2': [2, 4, 3, 5, 3, 4, 4, 2]\n",
        "}\n",
        "\n",
        "df = pd.DataFrame(data)\n",
        "# Menggabungkan beberapa rating menjadi satu dengan rata-rata (sederhana)\n",
        "df['rating'] = df[['rating1', 'rating2']].mean(axis=1)\n"
      ],
      "metadata": {
        "id": "YfLqSxkoH6jN"
      },
      "execution_count": 12,
      "outputs": []
    },
    {
      "cell_type": "code",
      "source": [
        "# Menghitung TF-IDF dari deskripsi\n",
        "tfidf = TfidfVectorizer(stop_words='english')\n",
        "tfidf_matrix = tfidf.fit_transform(df['description']).toarray()\n",
        "\n",
        "# Membuat ID yang unik untuk user dan item\n",
        "user_ids = df['user_id'].unique().tolist()\n",
        "user_id_mapping = {x: i for i, x in enumerate(user_ids)}\n",
        "item_ids = df['item_id'].unique().tolist()\n",
        "item_id_mapping = {x: i for i, x in enumerate(item_ids)}\n",
        "\n",
        "# Membuat kolom baru untuk user dan item ID yang di-mapped\n",
        "df['user_id'] = df['user_id'].map(user_id_mapping)\n",
        "df['item_id'] = df['item_id'].map(item_id_mapping)\n",
        "\n",
        "# Splitting the data\n",
        "X = df[['user_id', 'item_id']]\n",
        "y = df['rating']\n",
        "\n",
        "X_train, X_test, y_train, y_test = train_test_split(X, y, test_size=0.25, random_state=42)\n",
        "X_train_tfidf = tfidf_matrix[X_train.index]\n",
        "X_test_tfidf = tfidf_matrix[X_test.index]\n"
      ],
      "metadata": {
        "id": "uh7HZs_kIIpa"
      },
      "execution_count": 13,
      "outputs": []
    },
    {
      "cell_type": "code",
      "source": [
        "# Input layers\n",
        "user_input = Input(shape=(1,))\n",
        "item_input = Input(shape=(1,))\n",
        "tfidf_input = Input(shape=(tfidf_matrix.shape[1],))\n",
        "\n",
        "# Embeddings layers\n",
        "user_embedding = Embedding(output_dim=5, input_dim=len(user_id_mapping), input_length=1)(user_input)\n",
        "item_embedding = Embedding(output_dim=5, input_dim=len(item_id_mapping), input_length=1)(item_input)\n",
        "user_vec = Flatten()(user_embedding)\n",
        "item_vec = Flatten()(item_embedding)\n",
        "\n",
        "# Concatenate all features\n",
        "concat = Concatenate()([user_vec, item_vec, tfidf_input])\n",
        "\n",
        "# Neural network\n",
        "dense = Dense(128, activation='relu')(concat)\n",
        "dropout = Dropout(0.5)(dense)\n",
        "output = Dense(1)(dropout)\n",
        "\n",
        "model = Model(inputs=[user_input, item_input, tfidf_input], outputs=output)\n",
        "model.compile(optimizer=Adam(0.001), loss='mean_squared_error')\n",
        "\n",
        "# Model summary\n",
        "model.summary()\n"
      ],
      "metadata": {
        "colab": {
          "base_uri": "https://localhost:8080/"
        },
        "id": "z5t9_vI6IMmN",
        "outputId": "7fd89fe5-17e4-4f32-9d24-68344be863f5"
      },
      "execution_count": 14,
      "outputs": [
        {
          "output_type": "stream",
          "name": "stdout",
          "text": [
            "Model: \"model\"\n",
            "__________________________________________________________________________________________________\n",
            " Layer (type)                Output Shape                 Param #   Connected to                  \n",
            "==================================================================================================\n",
            " input_1 (InputLayer)        [(None, 1)]                  0         []                            \n",
            "                                                                                                  \n",
            " input_2 (InputLayer)        [(None, 1)]                  0         []                            \n",
            "                                                                                                  \n",
            " embedding (Embedding)       (None, 1, 5)                 20        ['input_1[0][0]']             \n",
            "                                                                                                  \n",
            " embedding_1 (Embedding)     (None, 1, 5)                 20        ['input_2[0][0]']             \n",
            "                                                                                                  \n",
            " flatten_4 (Flatten)         (None, 5)                    0         ['embedding[0][0]']           \n",
            "                                                                                                  \n",
            " flatten_5 (Flatten)         (None, 5)                    0         ['embedding_1[0][0]']         \n",
            "                                                                                                  \n",
            " input_3 (InputLayer)        [(None, 11)]                 0         []                            \n",
            "                                                                                                  \n",
            " concatenate_2 (Concatenate  (None, 21)                   0         ['flatten_4[0][0]',           \n",
            " )                                                                   'flatten_5[0][0]',           \n",
            "                                                                     'input_3[0][0]']             \n",
            "                                                                                                  \n",
            " dense_2 (Dense)             (None, 128)                  2816      ['concatenate_2[0][0]']       \n",
            "                                                                                                  \n",
            " dropout (Dropout)           (None, 128)                  0         ['dense_2[0][0]']             \n",
            "                                                                                                  \n",
            " dense_3 (Dense)             (None, 1)                    129       ['dropout[0][0]']             \n",
            "                                                                                                  \n",
            "==================================================================================================\n",
            "Total params: 2985 (11.66 KB)\n",
            "Trainable params: 2985 (11.66 KB)\n",
            "Non-trainable params: 0 (0.00 Byte)\n",
            "__________________________________________________________________________________________________\n"
          ]
        }
      ]
    },
    {
      "cell_type": "code",
      "source": [
        "model.fit([X_train.user_id, X_train.item_id, X_train_tfidf], y_train,\n",
        "          epochs=10, batch_size=4, verbose=1,\n",
        "          validation_data=([X_test.user_id, X_test.item_id, X_test_tfidf], y_test))\n",
        "\n",
        "# Predictions\n",
        "predictions = model.predict([X_test.user_id, X_test.item_id, X_test_tfidf]).flatten()\n",
        "\n",
        "# Evaluation metrics\n",
        "mae = mean_absolute_error(y_test, predictions)\n",
        "rmse = np.sqrt(mean_squared_error(y_test, predictions))\n",
        "cm = confusion_matrix(y_test.astype('int'), predictions.round().astype('int'))\n",
        "\n",
        "print(f\"MAE: {mae}\")\n",
        "print(f\"RMSE: {rmse}\")\n",
        "print(\"Confusion Matrix:\\n\", cm)\n"
      ],
      "metadata": {
        "colab": {
          "base_uri": "https://localhost:8080/"
        },
        "id": "3etCwhLxIQrR",
        "outputId": "b5f0c424-59f9-4e25-d434-a1ec9ffb44df"
      },
      "execution_count": 15,
      "outputs": [
        {
          "output_type": "stream",
          "name": "stdout",
          "text": [
            "Epoch 1/10\n",
            "2/2 [==============================] - 5s 235ms/step - loss: 11.6748 - val_loss: 13.6834\n",
            "Epoch 2/10\n",
            "2/2 [==============================] - 0s 40ms/step - loss: 12.0114 - val_loss: 13.4381\n",
            "Epoch 3/10\n",
            "2/2 [==============================] - 0s 38ms/step - loss: 11.8547 - val_loss: 13.2032\n",
            "Epoch 4/10\n",
            "2/2 [==============================] - 0s 38ms/step - loss: 10.7402 - val_loss: 12.9670\n",
            "Epoch 5/10\n",
            "2/2 [==============================] - 0s 39ms/step - loss: 11.0697 - val_loss: 12.7291\n",
            "Epoch 6/10\n",
            "2/2 [==============================] - 0s 44ms/step - loss: 10.6524 - val_loss: 12.4856\n",
            "Epoch 7/10\n",
            "2/2 [==============================] - 0s 46ms/step - loss: 10.2110 - val_loss: 12.2455\n",
            "Epoch 8/10\n",
            "2/2 [==============================] - 0s 39ms/step - loss: 10.5444 - val_loss: 12.0112\n",
            "Epoch 9/10\n",
            "2/2 [==============================] - 0s 39ms/step - loss: 10.2809 - val_loss: 11.7808\n",
            "Epoch 10/10\n",
            "2/2 [==============================] - 0s 36ms/step - loss: 10.0968 - val_loss: 11.5522\n",
            "1/1 [==============================] - 0s 116ms/step\n",
            "MAE: 3.325044631958008\n",
            "RMSE: 3.3988572642044126\n",
            "Confusion Matrix:\n",
            " [[0 0 0]\n",
            " [1 0 0]\n",
            " [1 0 0]]\n"
          ]
        }
      ]
    }
  ]
}