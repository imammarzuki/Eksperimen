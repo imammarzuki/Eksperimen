{
  "nbformat": 4,
  "nbformat_minor": 0,
  "metadata": {
    "colab": {
      "provenance": [],
      "authorship_tag": "ABX9TyO7ctPtyK3dZPgAGuzhLKRq",
      "include_colab_link": true
    },
    "kernelspec": {
      "name": "python3",
      "display_name": "Python 3"
    },
    "language_info": {
      "name": "python"
    }
  },
  "cells": [
    {
      "cell_type": "markdown",
      "metadata": {
        "id": "view-in-github",
        "colab_type": "text"
      },
      "source": [
        "<a href=\"https://colab.research.google.com/github/imammarzuki/Eksperimen/blob/main/HybridCF_CBF_1.ipynb\" target=\"_parent\"><img src=\"https://colab.research.google.com/assets/colab-badge.svg\" alt=\"Open In Colab\"/></a>"
      ]
    },
    {
      "cell_type": "code",
      "source": [
        "!pip install scikit-surprise"
      ],
      "metadata": {
        "colab": {
          "base_uri": "https://localhost:8080/"
        },
        "id": "sL-LAGx3ftmH",
        "outputId": "a9999776-58e2-4607-f74c-21a7be5f1d89"
      },
      "execution_count": 7,
      "outputs": [
        {
          "output_type": "stream",
          "name": "stdout",
          "text": [
            "Requirement already satisfied: scikit-surprise in /usr/local/lib/python3.10/dist-packages (1.1.4)\n",
            "Requirement already satisfied: joblib>=1.2.0 in /usr/local/lib/python3.10/dist-packages (from scikit-surprise) (1.4.2)\n",
            "Requirement already satisfied: numpy>=1.19.5 in /usr/local/lib/python3.10/dist-packages (from scikit-surprise) (1.25.2)\n",
            "Requirement already satisfied: scipy>=1.6.0 in /usr/local/lib/python3.10/dist-packages (from scikit-surprise) (1.11.4)\n"
          ]
        }
      ]
    },
    {
      "cell_type": "code",
      "source": [
        "import pandas as pd\n",
        "import numpy as np\n",
        "from sklearn.feature_extraction.text import TfidfVectorizer\n",
        "from sklearn.metrics.pairwise import cosine_similarity\n",
        "from sklearn.metrics import mean_absolute_error, mean_squared_error, confusion_matrix\n",
        "from surprise import Dataset, Reader, KNNBasic\n",
        "from surprise.model_selection import train_test_split\n",
        "from surprise import accuracy"
      ],
      "metadata": {
        "id": "V8X7SEkPh7el"
      },
      "execution_count": 8,
      "outputs": []
    },
    {
      "cell_type": "code",
      "source": [
        "data = {\n",
        "    'user_id': [1, 1, 2, 2, 3, 3, 4, 4],\n",
        "    'place_id': [101, 102, 101, 103, 102, 104, 101, 104],\n",
        "    'place_name': ['Place A', 'Place B', 'Place C', 'Place D', 'Place E', 'Place F', 'Place G', 'Place H'],\n",
        "    'description': [\n",
        "        'beautiful garden view', 'lake view near mountains', 'urban center shopping district',\n",
        "        'quiet woodland area', 'historic town center', 'lively night district', 'peaceful seaside area',\n",
        "        'scenic rural landscape'\n",
        "    ],\n",
        "    'price': [120, 150, 200, 90, 80, 220, 130, 110],\n",
        "    'rating1': [5, 4, 5, 2, 3, 4, 1, 2],\n",
        "    'rating2': [3, 3, 4, 1, 2, 5, 1, 2]\n",
        "}\n",
        "\n",
        "df = pd.DataFrame(data)\n",
        "df['average_rating'] = df[['rating1', 'rating2']].mean(axis=1)"
      ],
      "metadata": {
        "id": "MKi2hblniF1f"
      },
      "execution_count": 9,
      "outputs": []
    },
    {
      "cell_type": "code",
      "source": [
        "tfidf_vectorizer = TfidfVectorizer()\n",
        "tfidf_matrix = tfidf_vectorizer.fit_transform(df['description'])\n",
        "\n",
        "# Menghitung cosine similarity matrix\n",
        "cosine_sim = cosine_similarity(tfidf_matrix, tfidf_matrix)"
      ],
      "metadata": {
        "id": "rRTz0egyiIW_"
      },
      "execution_count": 10,
      "outputs": []
    },
    {
      "cell_type": "code",
      "source": [
        "# Data untuk CF\n",
        "reader = Reader(rating_scale=(1, 10))\n",
        "data = Dataset.load_from_df(df[['user_id', 'place_id', 'average_rating']], reader)\n",
        "trainset, testset = train_test_split(data, test_size=0.25)\n",
        "\n",
        "# Menggunakan KNN\n",
        "algo = KNNBasic(sim_options={'name': 'cosine', 'user_based': True})\n",
        "algo.fit(trainset)\n",
        "predictions = algo.test(testset)"
      ],
      "metadata": {
        "colab": {
          "base_uri": "https://localhost:8080/"
        },
        "id": "9J4OEO6riLB2",
        "outputId": "ee2d18fd-7df8-4261-f206-e729e3632e34"
      },
      "execution_count": 11,
      "outputs": [
        {
          "output_type": "stream",
          "name": "stdout",
          "text": [
            "Computing the cosine similarity matrix...\n",
            "Done computing similarity matrix.\n"
          ]
        }
      ]
    },
    {
      "cell_type": "code",
      "source": [
        "# Prediksi CF\n",
        "cf_predictions = np.array([pred.est for pred in predictions])\n",
        "\n",
        "# Gabungkan dengan CBF\n",
        "final_predictions = []\n",
        "for pred in predictions:\n",
        "    place_idx = df[df['place_id'] == pred.iid].index[0]\n",
        "    cbf_score = np.mean(cosine_sim[place_idx])\n",
        "    final_score = (cbf_score + pred.est) / 2\n",
        "    final_predictions.append(final_score)\n",
        "\n",
        "# Actual ratings\n",
        "actual_ratings = np.array([pred.r_ui for pred in predictions])\n",
        "\n",
        "# Hitung metrik\n",
        "mae = mean_absolute_error(actual_ratings, final_predictions)\n",
        "rmse = np.sqrt(mean_squared_error(actual_ratings, final_predictions))\n",
        "cm = confusion_matrix(actual_ratings.round(), np.array(final_predictions).round())\n",
        "\n",
        "print(f\"MAE: {mae}\")\n",
        "print(f\"RMSE: {rmse}\")\n",
        "print(\"Confusion Matrix:\\n\", cm)"
      ],
      "metadata": {
        "colab": {
          "base_uri": "https://localhost:8080/"
        },
        "id": "GvBCabamiObE",
        "outputId": "7a9aad1d-c714-43f4-b7fc-d523562a20d3"
      },
      "execution_count": 12,
      "outputs": [
        {
          "output_type": "stream",
          "name": "stdout",
          "text": [
            "MAE: 0.5011830490710324\n",
            "RMSE: 0.5827985978300931\n",
            "Confusion Matrix:\n",
            " [[2]]\n"
          ]
        }
      ]
    }
  ]
}