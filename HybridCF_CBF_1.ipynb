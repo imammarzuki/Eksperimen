{
  "nbformat": 4,
  "nbformat_minor": 0,
  "metadata": {
    "colab": {
      "provenance": [],
      "authorship_tag": "ABX9TyN1D38EDjkdS2OToWJBmVXz",
      "include_colab_link": true
    },
    "kernelspec": {
      "name": "python3",
      "display_name": "Python 3"
    },
    "language_info": {
      "name": "python"
    }
  },
  "cells": [
    {
      "cell_type": "markdown",
      "metadata": {
        "id": "view-in-github",
        "colab_type": "text"
      },
      "source": [
        "<a href=\"https://colab.research.google.com/github/imammarzuki/Eksperimen/blob/main/HybridCF_CBF_1.ipynb\" target=\"_parent\"><img src=\"https://colab.research.google.com/assets/colab-badge.svg\" alt=\"Open In Colab\"/></a>"
      ]
    },
    {
      "cell_type": "code",
      "source": [
        "!pip install scikit-surprise"
      ],
      "metadata": {
        "id": "iaPg7mdYjf4X",
        "colab": {
          "base_uri": "https://localhost:8080/"
        },
        "outputId": "fcb2bb15-5d81-4bd3-db2a-6518bd159576"
      },
      "execution_count": 1,
      "outputs": [
        {
          "output_type": "stream",
          "name": "stdout",
          "text": [
            "Collecting scikit-surprise\n",
            "  Downloading scikit-surprise-1.1.3.tar.gz (771 kB)\n",
            "\u001b[2K     \u001b[90m━━━━━━━━━━━━━━━━━━━━━━━━━━━━━━━━━━━━━━━━\u001b[0m \u001b[32m772.0/772.0 kB\u001b[0m \u001b[31m6.8 MB/s\u001b[0m eta \u001b[36m0:00:00\u001b[0m\n",
            "\u001b[?25h  Preparing metadata (setup.py) ... \u001b[?25l\u001b[?25hdone\n",
            "Requirement already satisfied: joblib>=1.0.0 in /usr/local/lib/python3.10/dist-packages (from scikit-surprise) (1.4.2)\n",
            "Requirement already satisfied: numpy>=1.17.3 in /usr/local/lib/python3.10/dist-packages (from scikit-surprise) (1.25.2)\n",
            "Requirement already satisfied: scipy>=1.3.2 in /usr/local/lib/python3.10/dist-packages (from scikit-surprise) (1.11.4)\n",
            "Building wheels for collected packages: scikit-surprise\n",
            "  Building wheel for scikit-surprise (setup.py) ... \u001b[?25l\u001b[?25hdone\n",
            "  Created wheel for scikit-surprise: filename=scikit_surprise-1.1.3-cp310-cp310-linux_x86_64.whl size=3162986 sha256=27aa2bcaf8a7f4c4b05548d97734fd7ba0e6c478e157f9eb2b49fca1be2c5067\n",
            "  Stored in directory: /root/.cache/pip/wheels/a5/ca/a8/4e28def53797fdc4363ca4af740db15a9c2f1595ebc51fb445\n",
            "Successfully built scikit-surprise\n",
            "Installing collected packages: scikit-surprise\n",
            "Successfully installed scikit-surprise-1.1.3\n"
          ]
        }
      ]
    },
    {
      "cell_type": "code",
      "source": [
        "from surprise import Dataset, Reader, KNNBasic\n",
        "from surprise.model_selection import cross_validate, train_test_split\n",
        "from surprise.accuracy import rmse, mae\n",
        "from surprise import accuracy\n",
        "import pandas as pd\n",
        "import numpy as np\n",
        "from sklearn.metrics import confusion_matrix"
      ],
      "metadata": {
        "id": "lTY-X3Kzjhds"
      },
      "execution_count": 2,
      "outputs": []
    },
    {
      "cell_type": "code",
      "source": [
        "data = {\n",
        "    'user_id': ['1', '1', '2', '2', '3', '3', '4', '4'],\n",
        "    'place_id': ['101', '102', '101', '103', '102', '104', '101', '104'],\n",
        "    'place_name': ['Place A', 'Place B', 'Place C', 'Place D', 'Place E', 'Place F', 'Place G', 'Place H'],\n",
        "    'description': ['beautiful garden view', 'lake view near mountains', 'urban center shopping district',\n",
        "                    'quiet woodland area', 'historic town center', 'lively night district', 'peaceful seaside area',\n",
        "                    'scenic rural landscape'],\n",
        "    'price': [120, 150, 200, 90, 80, 220, 130, 110],\n",
        "    'rating1': [5, 4, 5, 2, 3, 4, 1, 2],\n",
        "    'rating2': [3, 3, 4, 1, 2, 5, 1, 2]\n",
        "}\n",
        "\n",
        "df = pd.DataFrame(data)\n",
        "# Menggabungkan rating menjadi satu nilai dengan rata-rata\n",
        "df['average_rating'] = df[['rating1', 'rating2']].mean(axis=1)\n",
        "\n",
        "# Mengkonversi ke format yang diterima oleh Scikit-Surprise\n",
        "reader = Reader(rating_scale=(1, 5))\n",
        "data = Dataset.load_from_df(df[['user_id', 'place_id', 'average_rating']], reader)"
      ],
      "metadata": {
        "id": "Fj9TxvFJjkmM"
      },
      "execution_count": 3,
      "outputs": []
    },
    {
      "cell_type": "code",
      "source": [
        "# Membagi data menjadi train dan test set\n",
        "trainset, testset = train_test_split(data, test_size=0.25, random_state=42)\n",
        "\n",
        "# Menggunakan KNNBasic dengan kesamaan cosine\n",
        "algo = KNNBasic(sim_options={'name': 'cosine', 'user_based': True})\n",
        "algo.fit(trainset)\n",
        "\n",
        "# Membuat prediksi pada test set\n",
        "predictions = algo.test(testset)\n",
        "\n",
        "# Menampilkan hasil prediksi\n",
        "for prediction in predictions:\n",
        "    print(prediction)"
      ],
      "metadata": {
        "id": "rmOqa6_KjqXW",
        "colab": {
          "base_uri": "https://localhost:8080/"
        },
        "outputId": "3e0a0d81-aa05-40f6-ba6e-6d484b397e82"
      },
      "execution_count": 4,
      "outputs": [
        {
          "output_type": "stream",
          "name": "stdout",
          "text": [
            "Computing the cosine similarity matrix...\n",
            "Done computing similarity matrix.\n",
            "user: 2          item: 103        r_ui = 1.50   est = 3.50   {'was_impossible': True, 'reason': 'User and/or item is unknown.'}\n",
            "user: 4          item: 101        r_ui = 1.00   est = 3.50   {'was_impossible': True, 'reason': 'Not enough neighbors.'}\n"
          ]
        }
      ]
    },
    {
      "cell_type": "code",
      "source": [
        "# Menghitung RMSE dan MAE\n",
        "print(\"RMSE: \", accuracy.rmse(predictions))\n",
        "print(\"MAE: \", accuracy.mae(predictions))\n",
        "\n",
        "# Menghitung Confusion Matrix\n",
        "actual_ratings = np.array([pred.r_ui for pred in predictions])\n",
        "predicted_ratings = np.array([pred.est for pred in predictions])\n",
        "cm = confusion_matrix(actual_ratings.round(), predicted_ratings.round(), labels=[1, 2, 3, 4, 5])\n",
        "print(\"Confusion Matrix:\\n\", cm)"
      ],
      "metadata": {
        "colab": {
          "base_uri": "https://localhost:8080/"
        },
        "id": "xACBkf41jsPf",
        "outputId": "4ad5524c-5739-4083-d7c6-5229ea808ca9"
      },
      "execution_count": 5,
      "outputs": [
        {
          "output_type": "stream",
          "name": "stdout",
          "text": [
            "RMSE: 2.2638\n",
            "RMSE:  2.2638462845343543\n",
            "MAE:  2.2500\n",
            "MAE:  2.25\n",
            "Confusion Matrix:\n",
            " [[0 0 0 1 0]\n",
            " [0 0 0 1 0]\n",
            " [0 0 0 0 0]\n",
            " [0 0 0 0 0]\n",
            " [0 0 0 0 0]]\n"
          ]
        }
      ]
    }
  ]
}